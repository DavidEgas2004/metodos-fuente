{
 "cells": [
  {
   "cell_type": "markdown",
   "metadata": {},
   "source": [
    "## Taller Gauss-Jacobi y Gauss-Seidel\n",
    "\n",
    "Aplicacion de los codigos provistos por le profesor para la aplicacion de los metodos de Gauss-Jacobi y Gauss-Seidel para hallar las soluciones al sistema de ecuaciones. \n",
    "\n",
    "### Nombre: David Egas \n",
    "### Fecha: 25/01/2025\n"
   ]
  },
  {
   "cell_type": "markdown",
   "metadata": {},
   "source": [
    "## Metodo de Gauss-Jacobi"
   ]
  },
  {
   "cell_type": "code",
   "execution_count": 38,
   "metadata": {},
   "outputs": [],
   "source": [
    "from src import (\n",
    "    gauss_jacobi,\n",
    "    gauss_seidel\n",
    ")"
   ]
  },
  {
   "cell_type": "code",
   "execution_count": 39,
   "metadata": {},
   "outputs": [],
   "source": [
    "# Hallar la solucion del sistema de ecuaciones lineales mediante el metodo de Gauss-Jacobi\n",
    "\n",
    "#Creamos la matriz a hallar la solucion\n",
    "matriz =[\n",
    "    [2,10],\n",
    "    [3,2]\n",
    "]\n",
    "\n",
    "matriz_D_E_D=[\n",
    "    [3,2],\n",
    "    [2,10]\n",
    "]\n"
   ]
  },
  {
   "cell_type": "code",
   "execution_count": 41,
   "metadata": {},
   "outputs": [
    {
     "name": "stdout",
     "output_type": "stream",
     "text": [
      "[01-25 08:25:09][INFO] i= 0 x: [[1. 1.]]\n",
      "[01-25 08:25:09][INFO] i= 1 x: [[3.  1.4]]\n",
      "[01-25 08:25:09][INFO] i= 2 x: [[2.73333333 1.        ]]\n",
      "[01-25 08:25:09][INFO] i= 3 x: [[3.         1.05333333]]\n",
      "[01-25 08:25:09][INFO] i= 4 x: [[2.96444444 1.        ]]\n",
      "[01-25 08:25:09][INFO] i= 5 x: [[3.         1.00711111]]\n"
     ]
    }
   ],
   "source": [
    "resultado_G_J=gauss_jacobi(A=matriz_D_E_D, b=[11,16], x0=[1,1], tol=0.01, max_iter=50)"
   ]
  },
  {
   "cell_type": "markdown",
   "metadata": {},
   "source": [
    "## Gauss-Seidel "
   ]
  },
  {
   "cell_type": "code",
   "execution_count": 16,
   "metadata": {},
   "outputs": [
    {
     "name": "stdout",
     "output_type": "stream",
     "text": [
      "[01-25 08:13:14][INFO] i= 0 x: [[1. 1.]]\n",
      "[01-25 08:13:14][INFO] i= 1 x: [[3. 1.]]\n"
     ]
    }
   ],
   "source": [
    "resultado_G_S=gauss_seidel(A=matriz, b=[16,11], x0=[1,1], tol=0.01, max_iter=10)"
   ]
  }
 ],
 "metadata": {
  "kernelspec": {
   "display_name": "Python 3",
   "language": "python",
   "name": "python3"
  },
  "language_info": {
   "codemirror_mode": {
    "name": "ipython",
    "version": 3
   },
   "file_extension": ".py",
   "mimetype": "text/x-python",
   "name": "python",
   "nbconvert_exporter": "python",
   "pygments_lexer": "ipython3",
   "version": "3.13.0"
  }
 },
 "nbformat": 4,
 "nbformat_minor": 2
}
